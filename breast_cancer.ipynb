{
 "cells": [
  {
   "cell_type": "markdown",
   "metadata": {},
   "source": [
    "# Breast Cancer Machine Learning Prediction\n",
    "#### by George Traskas, started at 2017-10-12, made with Python 3 in IPython Notebook\n",
    "\n",
    "In this study, advanced machine learning methods will be utilized to build and test the performance of a selected algorithm for breast cancer diagnosis.\n",
    "## Dataset Description\n",
    "The Breast Cancer Wisconsin (Diagnostic) DataSet, obtained from Kaggle, contains features computed from a digitized image of a fine needle aspirate (FNA) of a breast mass and describe\tcharacteristics of the cell nuclei present in the image.\n",
    "1. Number of instances: 569 \n",
    "2. Number of attributes: 32 (ID, diagnosis, 30 real-valued input features)\n",
    "3. Attribute information\n",
    "    * ID number\n",
    "    * Diagnosis (M = malignant, B = benign)\n",
    "    * Ten real-valued features are computed for each cell nucleus:\n",
    "        * radius (mean of distances from center to points on the perimeter)\n",
    "        * texture (standard deviation of gray-scale values)\n",
    "        * perimeter\n",
    "        * area\n",
    "        * smoothness (local variation in radius lengths)\n",
    "        * compactness (perimeter^2 / area - 1.0)\n",
    "        * concavity (severity of concave portions of the contour)\n",
    "        * concave points (number of concave portions of the contour)\n",
    "        * symmetry \n",
    "        * fractal dimension (\"coastline approximation\" - 1)\n",
    "        \n",
    "    The mean, standard error, and \"worst\" or largest (mean of the three largest values) of these features were computed for each image, resulting in 30 features. For instance, field 3 is Mean Radius, field 13 is Radius SE, field 23 is Worst Radius.\n",
    "\n",
    "## Data Loading and Cleaning"
   ]
  },
  {
   "cell_type": "code",
   "execution_count": null,
   "metadata": {},
   "outputs": [],
   "source": [
    "import pandas as pd\n",
    "from IPython.display import HTML\n",
    "\n",
    "df = pd.read_csv(\"breast_cancer.csv\")\n",
    "HTML(df.to_html())\n",
    "print(df.shape)\n",
    "print(df.dtypes)\n",
    "df.head(n=3)"
   ]
  },
  {
   "cell_type": "markdown",
   "metadata": {},
   "source": [
    "The `id` and `Unnamed: 32` columns should be removed, since they are unnecessary. The dataset will be also examined for missing values, duplicated entries and unique values of 'diagnosis' column."
   ]
  },
  {
   "cell_type": "code",
   "execution_count": null,
   "metadata": {},
   "outputs": [],
   "source": [
    "# Remove unnecessary columns\n",
    "df.drop(['id', 'Unnamed: 32'], axis=1, inplace=True)"
   ]
  },
  {
   "cell_type": "code",
   "execution_count": null,
   "metadata": {},
   "outputs": [],
   "source": [
    "# Find missing values\n",
    "print('Missing values:\\n{}'.format(df.isnull().sum()))\n",
    "\n",
    "# Find duplicated records\n",
    "print('\\nNumber of duplicated records: {}'.format(df.duplicated().sum()))\n",
    "\n",
    "# Find the unique values of 'diagnosis'.\n",
    "print('\\nUnique values of \"diagnosis\": {}'.format(df['diagnosis'].unique()))"
   ]
  },
  {
   "cell_type": "markdown",
   "metadata": {},
   "source": [
    "There are no missing values or duplicated records. Next the `diagnosis` distribution is checked."
   ]
  },
  {
   "cell_type": "code",
   "execution_count": null,
   "metadata": {
    "scrolled": true
   },
   "outputs": [],
   "source": [
    "total = df['diagnosis'].count()\n",
    "malignant = df[df['diagnosis'] == \"M\"]['diagnosis'].count()\n",
    "print(\"Malignant: \", malignant)\n",
    "print(\"Benign: \", total - malignant)"
   ]
  },
  {
   "cell_type": "markdown",
   "metadata": {},
   "source": [
    "## Data Exploration"
   ]
  },
  {
   "cell_type": "code",
   "execution_count": null,
   "metadata": {},
   "outputs": [],
   "source": [
    "# Generate statistics\n",
    "df.describe()"
   ]
  },
  {
   "cell_type": "markdown",
   "metadata": {},
   "source": [
    "Plot pairwise relationships to check the correlations between the mean features."
   ]
  },
  {
   "cell_type": "code",
   "execution_count": null,
   "metadata": {},
   "outputs": [],
   "source": [
    "import seaborn as sns\n",
    "import matplotlib.pyplot as plt\n",
    "%matplotlib inline\n",
    "\n",
    "g = sns.PairGrid(df.iloc[:, 0:11], hue=\"diagnosis\", palette=\"Set2\")\n",
    "g = g.map_diag(plt.hist, edgecolor=\"w\")\n",
    "g = g.map_offdiag(plt.scatter, edgecolor=\"w\", s=40)\n",
    "plt.show()"
   ]
  },
  {
   "cell_type": "markdown",
   "metadata": {},
   "source": [
    "It seems that:\n",
    "1. There are strong correlations between many variables. Next, a heatmap will be used to present the numerical correlations.\n",
    "2. The univariate distributions on the diagonal show a separation of malignant and benign cells for several mean features. Malignant cells tend to have larger mean values of:\n",
    "    * radius\n",
    "    * perimeter\n",
    "    * area\n",
    "    * compactness\n",
    "    * concavity\n",
    "    * concave points"
   ]
  },
  {
   "cell_type": "code",
   "execution_count": null,
   "metadata": {},
   "outputs": [],
   "source": [
    "df_corr = df.iloc[:, 1:11].corr()\n",
    "plt.figure(figsize=(8,8))\n",
    "sns.heatmap(df_corr, cmap=\"Blues\", annot=True)\n",
    "plt.show()"
   ]
  },
  {
   "cell_type": "markdown",
   "metadata": {},
   "source": [
    "* As it was expected there are very strong correlations between radius, perimeter and area.\n",
    "* Compactness, concavity and and concave points are also highly correlated.\n",
    "\n",
    "These highly correlated features result in redundant information. It is suggested to remove highly correlated features to avoid a predictive bias for the information contained in these features."
   ]
  },
  {
   "cell_type": "markdown",
   "metadata": {},
   "source": [
    "### Encode \"diagnosis\" to numerical values"
   ]
  },
  {
   "cell_type": "code",
   "execution_count": null,
   "metadata": {},
   "outputs": [],
   "source": [
    "df['diagnosis'] = df['diagnosis'].map({'M':1,'B':0})"
   ]
  },
  {
   "cell_type": "markdown",
   "metadata": {},
   "source": [
    "## Machine Learning\n",
    "### Split Data to Train/Test Sets\n",
    "Create train/test sets using the `train_test_split` function. The `test_size=0.3` inside the function indicates the percentage of the data that should be held over for testing."
   ]
  },
  {
   "cell_type": "code",
   "execution_count": null,
   "metadata": {},
   "outputs": [],
   "source": [
    "from sklearn.model_selection import train_test_split\n",
    "\n",
    "array = df.values\n",
    "\n",
    "# Define the independent variables as features.\n",
    "features = array[:,1:]\n",
    "\n",
    "# Define the target (dependent) variable as labels.\n",
    "labels = array[:,0]\n",
    "\n",
    "# Create a train/test split using 30% test size.\n",
    "features_train, features_test, labels_train, labels_test = train_test_split(features,\n",
    "                                                                            labels,\n",
    "                                                                            test_size=0.3,\n",
    "                                                                            random_state=42)\n",
    "\n",
    "# Check the split printing the shape of each set.\n",
    "print(features_train.shape, labels_train.shape)\n",
    "print(features_test.shape, labels_test.shape)"
   ]
  },
  {
   "cell_type": "markdown",
   "metadata": {},
   "source": [
    "### K Nearest Neighbors (K-NN) Classifier\n",
    "K-NN was chosen amongst other algorithms (e.g. Support Vector Machines, Decision Trees and Naive Bayes), because it is quite fast and produces acceptable results. The speed of K-NN can be explained by the fact that this algorithm is a lazy learner and does not do much during training process unlike other classifiers that build the models. The performance of K-NN will be examined tuning the algorithm and applying various preprocessing steps.\n",
    "#### Evaluation of the algorithm\n",
    "Accuracy, i.e. the fraction of correct predictions is typically not enough information to evaluate a model. Although it is a starting point, it can lead to invalid decisions. Models with high accuracy may have inadequate precision or recall scores. For this reason the evaluation metrics that were also assessed are:\n",
    "* Precision or the ability of the classifier not to label as positive a sample that is negative. The best value is 1 and the worst value is 0. In our study case, precision is when the algorithm guesses that a cell is malignant and actually measures how certain we are that this cell is a true malignant. For example, a precision of 0.9 means that if the model predicts 100 malignant cells, the 90 of them are malignant and the rest 10 are benign (false).\n",
    "* Recall or the ability of the classifier to find all the positive samples. The best value is 1 and the worst value is 0. In context to the study, recall shows how well our identifier can find the malignant cells. For example, a low recall score of 0.8 indicates that our identifier finds only 80% of all the real malignant cells in the prediction. The rest 20% of real malignant cells will not be found by the diagnosis based on this algorithm, something that is unacceptable.\n",
    "* F1 score, a weighted average of the precision and recall, where an F1 score reaches its best value at 1 and worst score at 0. The relative contribution of precision and recall to the F1 score are equal. The formula for the F1 score is: F1 = 2 x (precision x recall) / (precision + recall)."
   ]
  },
  {
   "cell_type": "code",
   "execution_count": null,
   "metadata": {},
   "outputs": [],
   "source": [
    "from sklearn.neighbors import KNeighborsClassifier\n",
    "from sklearn.metrics import classification_report\n",
    "from sklearn.metrics import confusion_matrix\n",
    "from time import time\n",
    "\n",
    "def print_ml_results():\n",
    "    t0 = time()\n",
    "\n",
    "    # Create classifier.\n",
    "    clf = KNeighborsClassifier()\n",
    "\n",
    "    # Fit the classifier on the training features and labels.\n",
    "    t0 = time()\n",
    "    clf.fit(features_train, labels_train)\n",
    "    print(\"Training time:\", round(time()-t0, 3), \"s\")\n",
    "\n",
    "    # Make predictions.\n",
    "    t1 = time()\n",
    "    predictions = clf.predict(features_test)\n",
    "    print(\"Prediction time:\", round(time()-t1, 3), \"s\")\n",
    "\n",
    "    # Evaluate the model.\n",
    "    accuracy = clf.score(features_test, labels_test)\n",
    "    report = classification_report(labels_test, predictions)\n",
    "\n",
    "    # Print the reports.\n",
    "    print(\"\\nReport:\\n\")\n",
    "    print(\"Accuracy: {}\".format(accuracy))\n",
    "    print(\"\\n\", report)\n",
    "    print(confusion_matrix(labels_test, predictions))\n",
    "\n",
    "print_ml_results()"
   ]
  },
  {
   "cell_type": "markdown",
   "metadata": {},
   "source": [
    "* The algorithm will be tuned to achieve an improved performance, especially a better recall score for the malignant class, since 90% can be considered a low recall score in this case.\n",
    "\n",
    "#### Remove Highly Correlated Features and Run Again\n",
    "Investigate if removing manually features with a correlation higher than 0.8, can benefit the algorithm performance, although later this will be handled automatically by dimensionality reduction."
   ]
  },
  {
   "cell_type": "code",
   "execution_count": null,
   "metadata": {},
   "outputs": [],
   "source": [
    "df_new = df[['diagnosis', 'radius_mean', 'texture_mean', 'smoothness_mean',\n",
    "            'compactness_mean', 'symmetry_mean', 'fractal_dimension_mean',\n",
    "            'radius_se', 'texture_se', 'smoothness_se',\n",
    "            'compactness_se', 'concave points_se', 'symmetry_se',\n",
    "            'fractal_dimension_se', 'concavity_worst', 'symmetry_worst',\n",
    "            'fractal_dimension_worst']]\n",
    "\n",
    "array = df_new.values\n",
    "\n",
    "# Define the independent variables as features.\n",
    "features_new = array[:,1:]\n",
    "\n",
    "# Define the target (dependent) variable as labels.\n",
    "labels_new = array[:,0]\n",
    "\n",
    "# Create a train/test split using 30% test size.\n",
    "features_train, features_test, labels_train, labels_test = train_test_split(features_new, labels_new, \\\n",
    "                                                                            test_size=0.3, random_state=42)\n",
    "\n",
    "print_ml_results()"
   ]
  },
  {
   "cell_type": "markdown",
   "metadata": {},
   "source": [
    "There is a significant decrease in algorithm's accuracy and recall mostly for the malignant class. It's difficult to select manually the best features especially for datasets with many features correlated. Sometimes, ambiguity can occur when three or more variables are correlated. For example, if feature 1 is correlated with feature 2, while feature 2 is correlated with feature 3 but not feature 1, which one is better to remove? To resolve this automatically, dimensionality reduction methods are used such as Principal Component Analysis."
   ]
  },
  {
   "cell_type": "markdown",
   "metadata": {},
   "source": [
    "### Cross Validation\n",
    "Train/test split has a lurking danger if the split isn't random and when one subset of our data has only observations from one class, i.e. our data are imbalanced. This will result in overfitting. To avoid this, cross validation is applied. There are several cross validation methods such as K-Fold and Stratified K-Fold.\n",
    "\n",
    "In K-Fold cross-validation, the original sample is randomly partitioned into k equal sized subsamples. Of the k subsamples, a single subsample is retained as the validation data for testing the model, and the remaining k-1 subsamples are used as training data. The cross-validation process is then repeated k times (the folds), with each of the k subsamples used exactly once as the validation data. The k results from the folds can then be averaged to produce a single estimation. The advantage of this method over repeated random sub-sampling is the increased accuracy because all observations are used for both training and validation, and each observation is used for validation exactly once.\n",
    "\n",
    "If the original data comes in some sort of sorted shape, a shuffle of the order of the data points is necessary before splitting them up into folds. This can be done in `KFold()`, setting the `shuffle` parameter to `True`. If there are concerns about class imbalance, then the `StratifiedKFold()` class should be used instead. Where `KFold()` assigns points to folds without attention to output class, `StratifiedKFold()` assigns data points to folds so that each fold has approximately the same number of data points of each output class. This is most useful for when we have imbalanced numbers of data points in the outcome classes (e.g. one is rare compared to the others). For this class as well, it can be used `shuffle=True` to shuffle the data points' order before splitting into folds."
   ]
  },
  {
   "cell_type": "markdown",
   "metadata": {},
   "source": [
    "### Scale Features\n",
    "A common good practice in machine learning is feature scaling, normalization, standardization or binarization of the predictor variables. The main purposes of these methods are two:\n",
    "1. Create comparable features in terms of units, e.g. if there are values in different units, then, the scaled data will be the same.\n",
    "2. Create comparable features in terms of size, e.g. if two variables have vastly different ranges, the one with the larger range may dominate the predictive model, even though it may be less important to the target variable than the variable with the smaller range.\n",
    "\n",
    "Feature scaling was applied here, since it is useful for algorithms that weigh inputs like regression and neural networks, as well as algorithms that use distance measures like K-NN."
   ]
  },
  {
   "cell_type": "code",
   "execution_count": null,
   "metadata": {},
   "outputs": [],
   "source": [
    "from sklearn.preprocessing import MinMaxScaler\n",
    "import numpy as np\n",
    "\n",
    "np.set_printoptions(precision=2, suppress=True)\n",
    "\n",
    "scaler = MinMaxScaler(feature_range=(0,1))\n",
    "features_scaled = scaler.fit_transform(features)\n",
    "print(\"Unscaled data\\n\", features_train)\n",
    "print(\"\\nScaled data\\n\", features_scaled)"
   ]
  },
  {
   "cell_type": "markdown",
   "metadata": {},
   "source": [
    "### Principal Component Analysis (PCA)\n",
    "PCA is a preprocessing step, which decomposes a multivariate dataset in a set of successive orthogonal components that explain a maximum amount of the variance. It is used when we need to tackle datasets with a large number of features with different scales, some of which might be correlated. These correlations and the high dimension of the dataset bring a redudancy in the information. Applying PCA, the original features are transformed to linear combinations of new independent variables, which reduce the complexity of the dataset and thus, the computational cost.\n",
    "\n",
    "Summarizing, the main purpose of principal component analysis is to:\n",
    "* identify hidden pattern in a data set,\n",
    "* reduce the dimensionnality of the data by removing the noise and redundancy in the data,\n",
    "* identify correlated variables"
   ]
  },
  {
   "cell_type": "code",
   "execution_count": null,
   "metadata": {},
   "outputs": [],
   "source": [
    "from sklearn.decomposition import PCA\n",
    "\n",
    "pca = PCA(30)\n",
    "projected = pca.fit_transform(features)\n",
    "pca_inversed_data = pca.inverse_transform(np.eye(30))\n",
    "\n",
    "plt.style.use('seaborn')\n",
    "\n",
    "def plot_pca():\n",
    "    plt.figure(figsize=(10, 4))\n",
    "    plt.plot(pca_inversed_data.mean(axis=0), '--o', label = 'mean')\n",
    "    plt.plot(np.square(pca_inversed_data.std(axis=0)), '--o', label = 'variance')\n",
    "    plt.ylabel('Feature Contribution')\n",
    "    plt.xlabel('Feature Index')\n",
    "    plt.legend(loc='best')\n",
    "    plt.xticks(np.arange(0, 30, 1.0))\n",
    "    plt.show()\n",
    "\n",
    "    plt.figure(figsize = (10, 4))\n",
    "    plt.plot(np.cumsum(pca.explained_variance_ratio_), '--o')\n",
    "    plt.xlabel('Principal Component')\n",
    "    plt.ylabel('Cumulative Explained Variance')\n",
    "    plt.xticks(np.arange(0, 30, 1.0))\n",
    "    plt.show()\n",
    "\n",
    "plot_pca()"
   ]
  },
  {
   "cell_type": "markdown",
   "metadata": {},
   "source": [
    "Applying PCA on the unscaled dataset, it seems that more than 99% of the variance is explained by only one component, which is too good to be true. The feature contribution plot depicts that principal components 3 (`area_mean`) and 23 (`area_worst`) dominate the PCA. This is explained by the large variance of `area_mean` and `area_worst` (see std values of the Data Exploration section). To avoid this, feature scaling prior to PCA is highly recommended."
   ]
  },
  {
   "cell_type": "code",
   "execution_count": null,
   "metadata": {},
   "outputs": [],
   "source": [
    "projected_scaled = pca.fit_transform(features_scaled)\n",
    "pca_inversed_data = pca.inverse_transform(np.eye(30))\n",
    "\n",
    "plot_pca()"
   ]
  },
  {
   "cell_type": "markdown",
   "metadata": {},
   "source": [
    "After applying scaling before PCA, 5 principal components are required to explain more than 90% of the variance. This shows a better handle on the variation within the dataset.\n",
    "\n",
    "### Univariate Feature Selection\n",
    "This preprocessing step is used to select the best features based on univariate statistical tests. Most common methods are:\n",
    "* `SelectKBest()`, which removes all but the k highest scoring features, and\n",
    "* `SelectPercentile()`, which removes all but a user-specified highest scoring percentage of features.\n",
    "\n",
    "**Note:** First the dataset must be splitted into train and test sets, since performing feature selection on the whole dataset would lead to prediction bias."
   ]
  },
  {
   "cell_type": "code",
   "execution_count": null,
   "metadata": {},
   "outputs": [],
   "source": [
    "from sklearn.feature_selection import SelectKBest\n",
    "\n",
    "select = SelectKBest()\n",
    "select.fit(features_train, labels_train)\n",
    "scores = select.scores_\n",
    "# Show the scores in a table\n",
    "feature_scores = zip(df.columns.values.tolist(), scores)\n",
    "ordered_feature_scores = sorted(feature_scores, key=lambda x: x[1], reverse=True)\n",
    "for feature, score in ordered_feature_scores:\n",
    "    print(feature, score)"
   ]
  },
  {
   "cell_type": "markdown",
   "metadata": {},
   "source": [
    "### Tune the algorithm\n",
    "#### Putting it all together with GridSearchCV and Pipeline\n",
    "Algorithm tuning is a process in which we optimize the parameters that impact the model in order to enable the algorithm to perform with an improved performance. If we don't tune the algorithms well, performance will be poor with low accuracy, precision or recall. Most of the machine learning algorithms contain a set of parameters (hyperparameters), which should be set up adequately to perform the best. While all of the algorithms attempt to set reasonable default hyperparameters, they can often fail to provide optimal results for many real world datasets in practice. To find an optimized combination of hyperparameters, a metric is chosen to measure the algorithm's performance on an independent data set and hyperparameters that maximize this measure are adopted.\n",
    "\n",
    "Tuning the models is a tedious, time-consuming process and there can sometimes be interactions between the choices we make in one step and the optimal value for a downstream step. Hopefully, there are two simple and easy tuning strategies, grid search and random search. Scikit-learn provides these two methods for algorithm parameter tuning. `GridSearchCV()` allows us to construct a grid of all the combinations of parameters passing one classifier to pipeline each time, tries each combination, and then reports back the best combination. So, instead of trying numerous values for each tuning parameter, `GridSearchCV()` will apply all the combinations of parameters - not just vary them independently - avoiding local optima.\n",
    "\n",
    "The power of `GridSearchCV()` is that it multiplies out all the combinations of parameters and tries each one, making a k-fold cross-validated model for each combination. Then, we can ask for predictions and parameters from our `GridSearchCV()` object and it will automatically return to us the best set of predictions, as well as the best parameters."
   ]
  },
  {
   "cell_type": "code",
   "execution_count": null,
   "metadata": {},
   "outputs": [],
   "source": [
    "from sklearn.model_selection import StratifiedShuffleSplit\n",
    "from sklearn.pipeline import Pipeline, FeatureUnion\n",
    "from sklearn.model_selection import GridSearchCV\n",
    "\n",
    "# Create the scaler.\n",
    "scaler = MinMaxScaler(feature_range=(0,1))\n",
    "\n",
    "# Scale down all the features (both train and test dataset).\n",
    "features = scaler.fit_transform(features)\n",
    "\n",
    "# Create a train/test split using 30% test size.\n",
    "features_train, features_test, labels_train, labels_test = train_test_split(features,\n",
    "                                                                            labels,\n",
    "                                                                            test_size=0.3,\n",
    "                                                                            random_state=42)\n",
    "\n",
    "# Create the classifier.\n",
    "clf = KNeighborsClassifier()\n",
    "\n",
    "# Create the pipeline.\n",
    "pipeline = Pipeline([('reduce_dim', PCA()),\n",
    "                     ('clf', clf)])\n",
    "\n",
    "# Create the parameters.\n",
    "n_features_options = [1, 3, 5, 7]\n",
    "n_neighbors = [2, 4, 6]\n",
    "algorithm = ['auto', 'ball_tree', 'kd_tree', 'brute']\n",
    "\n",
    "parameters = [\n",
    "    {\n",
    "        'reduce_dim': [PCA(iterated_power=7)],\n",
    "        'reduce_dim__n_components': n_features_options,\n",
    "        'clf__n_neighbors': n_neighbors,\n",
    "        'clf__algorithm': algorithm\n",
    "    },\n",
    "    {\n",
    "        'reduce_dim': [SelectKBest()],\n",
    "        'reduce_dim__k': n_features_options,\n",
    "        'clf__n_neighbors': n_neighbors,\n",
    "        'clf__algorithm': algorithm\n",
    "    }]\n",
    "\n",
    "# Create a function to find the best estimator.\n",
    "def get_best_estimator(n_splits):\n",
    "\n",
    "    t0 = time()\n",
    "\n",
    "    # Create Stratified ShuffleSplit cross-validator.\n",
    "    sss = StratifiedShuffleSplit(n_splits=n_splits, test_size=0.3, random_state=3)\n",
    "\n",
    "    # Create grid search.\n",
    "    grid = GridSearchCV(pipeline, param_grid=parameters, scoring=('f1'), cv=sss, refit='f1')\n",
    "\n",
    "    # Fit pipeline on features_train and labels_train.\n",
    "    grid.fit(features_train, labels_train)\n",
    "\n",
    "    # Make predictions.\n",
    "    predictions = grid.predict(features_test)\n",
    "\n",
    "    # Test predictions using sklearn.classification_report().\n",
    "    report = classification_report(labels_test, predictions)\n",
    "\n",
    "    # Find the best parameters and scores.\n",
    "    best_parameters = grid.best_params_\n",
    "    best_score = grid.best_score_\n",
    "\n",
    "    # Print the reports.\n",
    "    print(\"\\nReport:\\n\")\n",
    "    print(report)\n",
    "    print(\"Best f1-score:\")\n",
    "    print(best_score)\n",
    "    print(\"Best parameters:\")\n",
    "    print(best_parameters)\n",
    "    print(confusion_matrix(labels_test, predictions))\n",
    "    print(\"Time passed: \", round(time() - t0, 3), \"s\")\n",
    "    \n",
    "    return grid.best_estimator_\n",
    "\n",
    "get_best_estimator(n_splits=20)"
   ]
  },
  {
   "cell_type": "markdown",
   "metadata": {},
   "source": [
    "#### Combine PCA and Feature Selection with FeatureUnion\n",
    "Often it is beneficial to combine several methods to obtain good performance. `FeatureUnion()` will be used to combine features obtained by PCA and univariate selection, `SelectKBest()`. Combining features using this transformer has the advantage that it allows cross validation and grid searches over the whole process. Datasets that benefit from this can often:\n",
    "* consist of heterogeneous data types (e.g. raster images and text captions),\n",
    "* are stored in a Pandas DataFrame and different columns require different processing pipelines."
   ]
  },
  {
   "cell_type": "code",
   "execution_count": null,
   "metadata": {},
   "outputs": [],
   "source": [
    "# Build the estimator from PCA and univariate selection.\n",
    "combined_features = FeatureUnion([('pca', PCA()), ('univ_select', SelectKBest())])\n",
    "\n",
    "# Do grid search over k, n_components and K-NN parameters.\n",
    "pipeline = Pipeline([('features', combined_features),\n",
    "                     ('clf', clf)])\n",
    "\n",
    "# Create the parameters.\n",
    "n_features_options = [1, 3, 5, 7]\n",
    "n_neighbors = [2, 4, 6]\n",
    "algorithm = ['auto', 'ball_tree', 'kd_tree', 'brute']\n",
    "\n",
    "parameters = [\n",
    "    {\n",
    "        'features__pca': [PCA(iterated_power=7)],\n",
    "        'features__pca__n_components': n_features_options,\n",
    "        'features__univ_select__k': n_features_options,\n",
    "        'clf__n_neighbors': n_neighbors,\n",
    "        'clf__algorithm': algorithm\n",
    "    }]\n",
    "\n",
    "get_best_estimator(20)"
   ]
  },
  {
   "cell_type": "markdown",
   "metadata": {},
   "source": [
    "### Conclusions\n",
    "\n",
    "In this study, K-NN algorithm was applied for the diagnosis of the Breast Cancer Wisconsin DataSet. It was found that precision and recall scores can be considerably improved applying the following steps:\n",
    "* Feature Scaling\n",
    "* Dimensionality Reduction\n",
    "* Cross Validation\n",
    "* Hyperparameter Optimization\n",
    "\n",
    "For better results more data are required and other algorithms should be used.\n",
    "\n",
    "### References\n",
    "1. http://scikit-learn.org/stable/index.html\n",
    "2. https://jakevdp.github.io/PythonDataScienceHandbook/\n",
    "3. http://jotterbach.github.io/2016/03/24/Principal_Component_Analysis/\n",
    "3. https://medium.com/towards-data-science/train-test-split-and-cross-validation-in-python-80b61beca4b6"
   ]
  }
 ],
 "metadata": {
  "kernelspec": {
   "display_name": "Python 3",
   "language": "python",
   "name": "python3"
  },
  "language_info": {
   "codemirror_mode": {
    "name": "ipython",
    "version": 3
   },
   "file_extension": ".py",
   "mimetype": "text/x-python",
   "name": "python",
   "nbconvert_exporter": "python",
   "pygments_lexer": "ipython3",
   "version": "3.7.9"
  }
 },
 "nbformat": 4,
 "nbformat_minor": 2
}
